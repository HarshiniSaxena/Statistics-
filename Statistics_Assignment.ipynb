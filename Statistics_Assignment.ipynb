{
  "nbformat": 4,
  "nbformat_minor": 0,
  "metadata": {
    "colab": {
      "provenance": []
    },
    "kernelspec": {
      "name": "python3",
      "display_name": "Python 3"
    },
    "language_info": {
      "name": "python"
    }
  },
  "cells": [
    {
      "cell_type": "markdown",
      "source": [
        "**Q1- What is the difference between descriptive statistics and inferential\n",
        "statistics? Explain with examples.**\n",
        "\n",
        "ANS- 1. **Descriptive Statistics:**\n",
        "\n",
        " Meaning: Descriptive statistics is about summarizing and describing\n",
        "the main features of a dataset.\n",
        "\n",
        "Purpose: It gives us a snapshot of the data we already have, but it does not go beyond it.\n",
        "\n",
        "Tools used:\n",
        "\n",
        "Measures of Central Tendency → Mean, Median, Mode\n",
        "\n",
        "Measures of Dispersion → Range, Variance, Standard Deviation\n",
        "\n",
        "Graphs/Charts → Bar chart, Histogram, Pie chart\n",
        "\n",
        "Example:\n",
        "Suppose we collected the marks of 50 students in a class.\n",
        "\n",
        "The average mark = 72\n",
        "\n",
        "The highest mark = 95\n",
        "\n",
        "The lowest mark = 40\n",
        "\n",
        "We can also plot a histogram of the marks.\n",
        "\n",
        "2. **Inferential Statistics:**\n",
        "\n",
        "Meaning: Inferential statistics is about making predictions, generalizations, or decisions about a population based on a sample of data.\n",
        "\n",
        "Purpose: Goes beyond the data we have → helps us infer or test hypotheses.\n",
        "\n",
        "Tools used:\n",
        "\n",
        "Hypothesis Testing (t-test, chi-square test, ANOVA)\n",
        "\n",
        "Confidence Intervals\n",
        "\n",
        "Regression & Correlation\n",
        "\n",
        "Sampling techniques\n",
        "    "
      ],
      "metadata": {
        "id": "ERMusRwCv-OK"
      }
    },
    {
      "cell_type": "markdown",
      "source": [
        "**Q2- What is sampling in statistics? Explain the differences between random\n",
        "and stratified sampling.**\n",
        "\n",
        "ANS- Sampling is the process of selecting a small group (called a sample) from a large group (called the population) to study and draw conclusions about the entire population.\n",
        "\n",
        "Since it is often impossible or costly to study the whole population, statisticians collect data from a sample and use it to make inferences.\n",
        "\n",
        "**Example:**\n",
        "\n",
        "If you want to know the average height of students in a school of 2,000 students, instead of measuring all 2,000 students, you can measure the height of 200 students (sample) and estimate the average for the whole school (population).\n",
        "\n",
        "**Random Sampling:**\n",
        "\n",
        "In random sampling, every individual in the population has an equal chance of being selected.\n",
        "\n",
        "It is unbiased and ensures fair representation.\n",
        "\n",
        "Example:\n",
        "If you want to select 100 students from a school of 2,000, you put all names in a box and randomly pick 100.\n",
        "\n",
        "**Stratified Sampling:**\n",
        "\n",
        "In stratified sampling, the population is first divided into groups (called strata) based on certain characteristics (e.g., gender, age, class).\n",
        "\n",
        "Then, random samples are taken from each stratum in proportion to its size.\n",
        "\n",
        "This ensures that all important groups are represented.\n",
        "\n",
        "Example:\n",
        "If a school has 60% girls and 40% boys, and you want a sample of 100 students, you take 60 girls and 40 boys randomly from each group"
      ],
      "metadata": {
        "id": "HzUDnCMwv-Kp"
      }
    },
    {
      "cell_type": "markdown",
      "source": [
        "**Q3- Define mean, median, and mode. Explain why these measures of central\n",
        "tendency are important.**\n",
        "\n",
        "ANS- **Mean (Arithmetic Average):**\n",
        "\n",
        "The mean is the sum of all data values divided by the total number of values.\n",
        "\n",
        "**Formula:**\n",
        "\n",
        "Mean=\n",
        "Sum of all values\n",
        "Number of values\n",
        "Mean=\n",
        "Number of values\n",
        "Sum of all values\n",
        "\n",
        "**Median (Middle Value):**\n",
        "\n",
        "The median is the middle value of the data when arranged in ascending or descending order.\n",
        "\n",
        "If the number of values is odd, the middle value is the median.\n",
        "\n",
        "If the number of values is even, the median is the average of the two middle values.\n",
        "\n",
        "**Mode (Most Frequent Value):**\n",
        "\n",
        "The mode is the value that occurs most often in the dataset.\n",
        "\n",
        "A dataset may have no mode, one mode (unimodal), or more than one mode (bimodal/multimodal).\n",
        "\n",
        "**Why These Measures Are Important?**\n",
        "\n",
        "**Summarize Data:**\n",
        "They reduce a large dataset to a single representative value, making it easier to understand.\n",
        "\n",
        "**Identify the Center:**\n",
        "They show the \"central tendency\" or typical value around which other data points cluster.\n",
        "\n",
        "**Compare Groups:**\n",
        "Useful for comparing different datasets (e.g., average income of two cities).\n",
        "\n",
        "**Decision Making:**\n",
        "Businesses, researchers, and policymakers use them for planning and analysis (e.g., mean test score, median household income)."
      ],
      "metadata": {
        "id": "uq4cZSuyv-IE"
      }
    },
    {
      "cell_type": "markdown",
      "source": [
        "**Q4- Explain skewness and kurtosis. What does a positive skew imply about the\n",
        "data?**\n",
        "\n",
        "ANS- Skewness refers to the degree of asymmetry in the distribution of data. If a dataset is perfectly symmetrical, like the normal distribution, the skewness is zero. A positive skew (right skew) occurs when the distribution has a long tail on the right side; this means most of the data values are clustered on the lower side, but a few extremely high values pull the mean to the right, making the relationship Mean > Median > Mode. For example, income distribution is usually positively skewed, since most people earn average incomes while a few individuals earn very high incomes. A negative skew (left skew), on the other hand, has a long tail on the left side, meaning most values are higher but a few very small values drag the mean to the left.\n",
        "\n",
        "Kurtosis, on the other hand, describes the \"tailedness\" or the sharpness of the peak in a distribution compared to the normal distribution. A normal distribution has kurtosis around 3 (called mesokurtic). If the distribution has a sharper peak and heavier tails, it is called leptokurtic (kurtosis > 3), which indicates the presence of more outliers. If it has a flatter peak and lighter tails, it is called platykurtic (kurtosis < 3), meaning fewer outliers.\n",
        "\n",
        "Thus, a positive skew implies that the dataset contains mostly smaller or moderate values, with a few unusually large values stretching the tail to the right.\n",
        "\n",
        "\n",
        "\n",
        "\n",
        "\n",
        "\n"
      ],
      "metadata": {
        "id": "Q5rqrOhUv-Fg"
      }
    },
    {
      "cell_type": "markdown",
      "source": [
        "**Q5- Implement a Python program to compute the mean, median, and mode of\n",
        "a given list of numbers.\n",
        "numbers = [12, 15, 12, 18, 19, 12, 20, 22, 19, 19, 24, 24, 24, 26, 28]\n",
        "(Include your Python code and output in the code box below.)**\n"
      ],
      "metadata": {
        "id": "0EgMweeVv-DR"
      }
    },
    {
      "cell_type": "code",
      "source": [
        "# Python program to compute Mean, Median, and Mode\n",
        "\n",
        "from statistics import mean, median, mode\n",
        "\n",
        "# Given list of numbers\n",
        "numbers = [12, 15, 12, 18, 19, 12, 20, 22, 19, 19, 24, 24, 24, 26, 28]\n",
        "\n",
        "# Calculating mean, median, and mode\n",
        "mean_value = mean(numbers)\n",
        "median_value = median(numbers)\n",
        "mode_value = mode(numbers)\n",
        "\n",
        "# Printing results\n",
        "print(\"Numbers:\", numbers)\n",
        "print(\"Mean:\", mean_value)\n",
        "print(\"Median:\", median_value)\n",
        "print(\"Mode:\", mode_value)\n"
      ],
      "metadata": {
        "colab": {
          "base_uri": "https://localhost:8080/"
        },
        "id": "D9JriMgBCgqn",
        "outputId": "0b133df5-050d-4937-ea63-d0b12551fe68"
      },
      "execution_count": 1,
      "outputs": [
        {
          "output_type": "stream",
          "name": "stdout",
          "text": [
            "Numbers: [12, 15, 12, 18, 19, 12, 20, 22, 19, 19, 24, 24, 24, 26, 28]\n",
            "Mean: 19.6\n",
            "Median: 19\n",
            "Mode: 12\n"
          ]
        }
      ]
    },
    {
      "cell_type": "markdown",
      "source": [
        "**Q6- Compute the covariance and correlation coefficient between the following\n",
        "two datasets provided as lists in Python:\n",
        "list_x = [10, 20, 30, 40, 50]\n",
        "list_y = [15, 25, 35, 45, 60]\n",
        "(Include your Python code and output in the code box below.)**"
      ],
      "metadata": {
        "id": "dBXA2SPdv-Al"
      }
    },
    {
      "cell_type": "code",
      "source": [
        "# Python program to compute covariance and correlation coefficient\n",
        "\n",
        "import numpy as np\n",
        "\n",
        "# Given lists\n",
        "list_x = [10, 20, 30, 40, 50]\n",
        "list_y = [15, 25, 35, 45, 60]\n",
        "\n",
        "# Convert lists to numpy arrays\n",
        "x = np.array(list_x)\n",
        "y = np.array(list_y)\n",
        "\n",
        "# Compute covariance matrix\n",
        "cov_matrix = np.cov(x, y, bias=False)   # bias=False gives sample covariance\n",
        "cov_xy = cov_matrix[0, 1]\n",
        "\n",
        "# Compute correlation coefficient\n",
        "corr_xy = np.corrcoef(x, y)[0, 1]\n",
        "\n",
        "# Printing results\n",
        "print(\"List X:\", list_x)\n",
        "print(\"List Y:\", list_y)\n",
        "print(\"Covariance:\", cov_xy)\n",
        "print(\"Correlation Coefficient:\", corr_xy)\n"
      ],
      "metadata": {
        "colab": {
          "base_uri": "https://localhost:8080/"
        },
        "id": "eHe7FL99DBVo",
        "outputId": "96ece1ec-9984-4419-b28c-91880c42b9d3"
      },
      "execution_count": 2,
      "outputs": [
        {
          "output_type": "stream",
          "name": "stdout",
          "text": [
            "List X: [10, 20, 30, 40, 50]\n",
            "List Y: [15, 25, 35, 45, 60]\n",
            "Covariance: 275.0\n",
            "Correlation Coefficient: 0.995893206467704\n"
          ]
        }
      ]
    },
    {
      "cell_type": "markdown",
      "source": [
        "**Q7- Write a Python script to draw a boxplot for the following numeric list and\n",
        "identify its outliers. Explain the result:\n",
        "data = [12, 14, 14, 15, 18, 19, 19, 21, 22, 22, 23, 23, 24, 26, 29, 35]\n",
        "(Include your Python code and output in the code box below.)**"
      ],
      "metadata": {
        "id": "Hu4tCokPv9-P"
      }
    },
    {
      "cell_type": "code",
      "source": [
        "# Python program to draw a boxplot and identify outliers\n",
        "\n",
        "import matplotlib.pyplot as plt\n",
        "import seaborn as sns\n",
        "\n",
        "# Given data\n",
        "data = [12, 14, 14, 15, 18, 19, 19, 21, 22, 22, 23, 23, 24, 26, 29, 35]\n",
        "\n",
        "# Draw boxplot\n",
        "plt.figure(figsize=(6,4))\n",
        "sns.boxplot(data=data)\n",
        "plt.title(\"Boxplot of Given Data\")\n",
        "plt.show()\n",
        "\n",
        "# Detect outliers using IQR method\n",
        "import numpy as np\n",
        "\n",
        "Q1 = np.percentile(data, 25)   # First quartile\n",
        "Q3 = np.percentile(data, 75)   # Third quartile\n",
        "IQR = Q3 - Q1                  # Interquartile Range\n",
        "\n",
        "# Define outlier boundaries\n",
        "lower_bound = Q1 - 1.5 * IQR\n",
        "upper_bound = Q3 + 1.5 * IQR\n",
        "\n",
        "# Find outliers\n",
        "outliers = [x for x in data if x < lower_bound or x > upper_bound]\n",
        "\n",
        "print(\"Q1:\", Q1)\n",
        "print(\"Q3:\", Q3)\n",
        "print(\"IQR:\", IQR)\n",
        "print(\"Lower Bound:\", lower_bound)\n",
        "print(\"Upper Bound:\", upper_bound)\n",
        "print(\"Outliers:\", outliers)\n",
        "\n",
        "\n",
        "\n"
      ],
      "metadata": {
        "colab": {
          "base_uri": "https://localhost:8080/",
          "height": 476
        },
        "id": "c6etTIIJDMBd",
        "outputId": "fd6f72d9-dc62-448f-a1a7-b7ef37e5890a"
      },
      "execution_count": 4,
      "outputs": [
        {
          "output_type": "display_data",
          "data": {
            "text/plain": [
              "<Figure size 600x400 with 1 Axes>"
            ],
            "image/png": "[encoded data removed]"
          },
          "metadata": {}
        },
        {
          "output_type": "stream",
          "name": "stdout",
          "text": [
            "Q1: 17.25\n",
            "Q3: 23.25\n",
            "IQR: 6.0\n",
            "Lower Bound: 8.25\n",
            "Upper Bound: 32.25\n",
            "Outliers: [35]\n"
          ]
        }
      ]
    },
    {
      "cell_type": "markdown",
      "source": [
        "**Q8-  You are working as a data analyst in an e-commerce company. The\n",
        "marketing team wants to know if there is a relationship between advertising spend and\n",
        "daily sales.\n",
        "● Explain how you would use covariance and correlation to explore this\n",
        "relationship.\n",
        "● Write Python code to compute the correlation between the two lists:\n",
        "advertising_spend = [200, 250, 300, 400, 500]\n",
        "daily_sales = [2200, 2450, 2750, 3200, 4000]\n",
        "(Include your Python code and output in the code box below.)**\n",
        "\n",
        "ANS- Covariance measures how two variables change together.\n",
        "\n",
        "If covariance is positive, it means when advertising spend increases, daily sales also tend to increase.\n",
        "\n",
        "If covariance is negative, it means when advertising spend increases, daily sales tend to decrease.\n",
        "\n",
        "The limitation is that covariance does not show the strength of the relationship, only the direction.\n",
        "\n",
        "Correlation coefficient (usually Pearson’s correlation) measures both the strength and direction of the relationship between two variables.\n",
        "\n",
        "Its value ranges from –1 to +1.\n",
        "\n",
        "A value close to +1 means a strong positive relationship (both increase together).\n",
        "\n",
        "A value close to –1 means a strong negative relationship (one increases, the other decreases).\n",
        "\n",
        "A value near 0 means little or no linear relationship."
      ],
      "metadata": {
        "id": "TJ8q7cTeDjmH"
      }
    },
    {
      "cell_type": "code",
      "execution_count": 5,
      "metadata": {
        "id": "oO2FbAP_v9EE",
        "colab": {
          "base_uri": "https://localhost:8080/"
        },
        "outputId": "e6634c41-fa2d-4249-f4ee-678f305cd1d6"
      },
      "outputs": [
        {
          "output_type": "stream",
          "name": "stdout",
          "text": [
            "Advertising Spend: [200, 250, 300, 400, 500]\n",
            "Daily Sales: [2200, 2450, 2750, 3200, 4000]\n",
            "Covariance: 84875.0\n",
            "Correlation Coefficient: 0.9935824101653329\n"
          ]
        }
      ],
      "source": [
        "# Python program to compute correlation between advertising spend and daily sales\n",
        "\n",
        "import numpy as np\n",
        "\n",
        "# Given data\n",
        "advertising_spend = [200, 250, 300, 400, 500]\n",
        "daily_sales = [2200, 2450, 2750, 3200, 4000]\n",
        "\n",
        "# Convert lists to numpy arrays\n",
        "x = np.array(advertising_spend)\n",
        "y = np.array(daily_sales)\n",
        "\n",
        "# Compute covariance matrix\n",
        "cov_matrix = np.cov(x, y, bias=False)\n",
        "cov_xy = cov_matrix[0, 1]\n",
        "\n",
        "# Compute correlation coefficient\n",
        "corr_xy = np.corrcoef(x, y)[0, 1]\n",
        "\n",
        "# Print results\n",
        "print(\"Advertising Spend:\", advertising_spend)\n",
        "print(\"Daily Sales:\", daily_sales)\n",
        "print(\"Covariance:\", cov_xy)\n",
        "print(\"Correlation Coefficient:\", corr_xy)\n"
      ]
    },
    {
      "cell_type": "markdown",
      "source": [
        "**Q9- Question 9: Your team has collected customer satisfaction survey data on a scale of\n",
        "1-10 and wants to understand its distribution before launching a new product.\n",
        "● Explain which summary statistics and visualizations (e.g. mean, standard\n",
        "deviation, histogram) you’d use.\n",
        "● Write Python code to create a histogram using Matplotlib for the survey data:\n",
        "survey_scores = [7, 8, 5, 9, 6, 7, 8, 9, 10, 4, 7, 6, 9, 8, 7]\n",
        "(Include your Python code and output in the code box below.)**\n",
        "\n",
        "ANS- To understand the distribution of customer satisfaction survey data (scale 1–10):\n",
        "\n",
        "Mean → shows the average satisfaction score.\n",
        "\n",
        "Median → shows the middle score, less affected by outliers.\n",
        "\n",
        "Mode → identifies the most common satisfaction score.\n",
        "\n",
        "Standard Deviation (SD) → measures how spread out the scores are around the mean (low SD = consistent opinions, high SD = varied opinions).\n",
        "\n",
        "Histogram → visualizes the frequency distribution of scores (e.g., how many customers rated 7, 8, 9, etc.).\n",
        "\n",
        "Boxplot (optional) → shows the spread and detects outliers.\n",
        "\n",
        "These statistics and visualizations together give a clear picture of how satisfied customers are and whether opinions are concentrated (most customers agree) or spread out."
      ],
      "metadata": {
        "id": "D8ZuvzfHD58a"
      }
    },
    {
      "cell_type": "code",
      "source": [
        "# Python program to analyze and visualize survey scores\n",
        "\n",
        "import matplotlib.pyplot as plt\n",
        "import numpy as np\n",
        "from statistics import mean, median, mode, stdev\n",
        "\n",
        "# Given survey data\n",
        "survey_scores = [7, 8, 5, 9, 6, 7, 8, 9, 10, 4, 7, 6, 9, 8, 7]\n",
        "\n",
        "# Summary statistics\n",
        "mean_score = mean(survey_scores)\n",
        "median_score = median(survey_scores)\n",
        "mode_score = mode(survey_scores)\n",
        "std_dev = stdev(survey_scores)\n",
        "\n",
        "print(\"Mean:\", mean_score)\n",
        "print(\"Median:\", median_score)\n",
        "print(\"Mode:\", mode_score)\n",
        "print(\"Standard Deviation:\", std_dev)\n",
        "\n",
        "# Create histogram\n",
        "plt.figure(figsize=(6,4))\n",
        "plt.hist(survey_scores, bins=6, color='skyblue', edgecolor='black')\n",
        "plt.title(\"Histogram of Customer Satisfaction Scores\")\n",
        "plt.xlabel(\"Satisfaction Score (1-10)\")\n",
        "plt.ylabel(\"Frequency\")\n",
        "plt.grid(axis='y', linestyle='--', alpha=0.7)\n",
        "plt.show()\n"
      ],
      "metadata": {
        "colab": {
          "base_uri": "https://localhost:8080/",
          "height": 479
        },
        "id": "vC98SXYZEIpo",
        "outputId": "1ebe3162-daba-42de-836e-70ddcd163df9"
      },
      "execution_count": 6,
      "outputs": [
        {
          "output_type": "stream",
          "name": "stdout",
          "text": [
            "Mean: 7.333333333333333\n",
            "Median: 7\n",
            "Mode: 7\n",
            "Standard Deviation: 1.632993161855452\n"
          ]
        },
        {
          "output_type": "display_data",
          "data": {
            "text/plain": [
              "<Figure size 600x400 with 1 Axes>"
            ],
            "image/png": "[encoded data removed]"
          },
          "metadata": {}
        }
      ]
    }
  ]
}